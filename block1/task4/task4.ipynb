{
 "cells": [
  {
   "cell_type": "code",
   "execution_count": 150,
   "id": "3dc157b0",
   "metadata": {},
   "outputs": [],
   "source": [
    "from sklearn.linear_model import LogisticRegression\n",
    "from sklearn.metrics import roc_auc_score, roc_curve\n",
    "from sklearn.model_selection import train_test_split\n",
    "import numpy as np\n",
    "import pandas as pd\n",
    "import matplotlib.pyplot as plt\n",
    "import seaborn as sns"
   ]
  },
  {
   "cell_type": "code",
   "execution_count": 151,
   "id": "7da98386",
   "metadata": {},
   "outputs": [
    {
     "name": "stdout",
     "output_type": "stream",
     "text": [
      "<class 'pandas.core.frame.DataFrame'>\n",
      "RangeIndex: 891 entries, 0 to 890\n",
      "Data columns (total 12 columns):\n",
      " #   Column       Non-Null Count  Dtype  \n",
      "---  ------       --------------  -----  \n",
      " 0   PassengerId  891 non-null    int64  \n",
      " 1   Survived     891 non-null    int64  \n",
      " 2   Pclass       891 non-null    int64  \n",
      " 3   Name         891 non-null    object \n",
      " 4   Sex          891 non-null    object \n",
      " 5   Age          714 non-null    float64\n",
      " 6   SibSp        891 non-null    int64  \n",
      " 7   Parch        891 non-null    int64  \n",
      " 8   Ticket       891 non-null    object \n",
      " 9   Fare         891 non-null    float64\n",
      " 10  Cabin        204 non-null    object \n",
      " 11  Embarked     889 non-null    object \n",
      "dtypes: float64(2), int64(5), object(5)\n",
      "memory usage: 83.7+ KB\n"
     ]
    }
   ],
   "source": [
    "df_train = pd.read_csv('./train.csv')\n",
    "df_train.info()"
   ]
  },
  {
   "cell_type": "code",
   "execution_count": 152,
   "id": "59b147f0",
   "metadata": {},
   "outputs": [
    {
     "data": {
      "application/vnd.microsoft.datawrangler.viewer.v0+json": {
       "columns": [
        {
         "name": "index",
         "rawType": "object",
         "type": "string"
        },
        {
         "name": "0",
         "rawType": "int64",
         "type": "integer"
        }
       ],
       "ref": "be5d53d6-2c49-43d0-bbf3-2efd769ec1d7",
       "rows": [
        [
         "PassengerId",
         "0"
        ],
        [
         "Survived",
         "0"
        ],
        [
         "Pclass",
         "0"
        ],
        [
         "Name",
         "0"
        ],
        [
         "Sex",
         "0"
        ],
        [
         "Age",
         "0"
        ],
        [
         "SibSp",
         "0"
        ],
        [
         "Parch",
         "0"
        ],
        [
         "Ticket",
         "0"
        ],
        [
         "Fare",
         "0"
        ],
        [
         "Cabin",
         "0"
        ],
        [
         "Embarked",
         "0"
        ]
       ],
       "shape": {
        "columns": 1,
        "rows": 12
       }
      },
      "text/plain": [
       "PassengerId    0\n",
       "Survived       0\n",
       "Pclass         0\n",
       "Name           0\n",
       "Sex            0\n",
       "Age            0\n",
       "SibSp          0\n",
       "Parch          0\n",
       "Ticket         0\n",
       "Fare           0\n",
       "Cabin          0\n",
       "Embarked       0\n",
       "dtype: int64"
      ]
     },
     "execution_count": 152,
     "metadata": {},
     "output_type": "execute_result"
    }
   ],
   "source": [
    "df_train = df_train.dropna()\n",
    "df_train.isnull().sum()"
   ]
  },
  {
   "cell_type": "code",
   "execution_count": 153,
   "id": "91a2f226",
   "metadata": {},
   "outputs": [
    {
     "data": {
      "text/plain": [
       "0.7027027027027027"
      ]
     },
     "execution_count": 153,
     "metadata": {},
     "output_type": "execute_result"
    }
   ],
   "source": [
    "from sklearn.metrics import accuracy_score\n",
    "\n",
    "\n",
    "numeric_cols = df_train.select_dtypes(include=[np.number]).columns.tolist()\n",
    "X = df_train[[c for c in numeric_cols]].drop(columns=['Survived'])\n",
    "y = df_train['Survived']\n",
    "X_train, X_test, y_train, y_test = train_test_split(\n",
    "    X, y, test_size=0.2, random_state=42,\n",
    ")\n",
    "\n",
    "model = LogisticRegression(max_iter=1000, random_state=42)\n",
    "model.fit(X_train, y_train)\n",
    "preds = model.predict(X_test)\n",
    "\n",
    "accuracy_score(y_test, preds)"
   ]
  },
  {
   "cell_type": "code",
   "execution_count": 154,
   "id": "048db447",
   "metadata": {},
   "outputs": [],
   "source": [
    "df = pd.read_csv('./train.csv')"
   ]
  },
  {
   "cell_type": "markdown",
   "id": "6c053431",
   "metadata": {},
   "source": [
    "# Важные признаки\n",
    "В контексте выживания имеют смысл признаки, котрые отражают напрямую или косвенно социальный статус и достаток. \n",
    "Pclass и Fare необходимы, тк у более обеспеченных лучшие места и более быстрый доступ к шлюпкам.\n",
    "Тк пол и возраст влияли на приоритет посадки в шлюпки, то Age и Sex нужны.\n",
    "Также важны признаки SibSp и Parch, тк люди будут спасать родственников и шанс выжить меньше, если семьи большие на корабле.\n",
    "\n",
    "PassengerId, Name, Ticket, Cabin, Embarked - неинформативные, зашумленные или с огромными пропусками их нет смысла рассматривать."
   ]
  },
  {
   "cell_type": "code",
   "execution_count": 155,
   "id": "3f7638ac",
   "metadata": {},
   "outputs": [],
   "source": [
    "df = df[['Pclass', 'Sex', 'Age', 'SibSp', 'Parch', 'Fare', 'Survived']]"
   ]
  },
  {
   "cell_type": "code",
   "execution_count": 156,
   "id": "31b59742",
   "metadata": {},
   "outputs": [
    {
     "data": {
      "application/vnd.microsoft.datawrangler.viewer.v0+json": {
       "columns": [
        {
         "name": "index",
         "rawType": "object",
         "type": "string"
        },
        {
         "name": "count",
         "rawType": "int64",
         "type": "integer"
        },
        {
         "name": "percent",
         "rawType": "float64",
         "type": "float"
        }
       ],
       "ref": "331948a3-4319-4892-beee-f65815ebbaab",
       "rows": [
        [
         "Pclass",
         "0",
         "0.0"
        ],
        [
         "Sex",
         "0",
         "0.0"
        ],
        [
         "Age",
         "177",
         "19.87"
        ],
        [
         "SibSp",
         "0",
         "0.0"
        ],
        [
         "Parch",
         "0",
         "0.0"
        ],
        [
         "Fare",
         "0",
         "0.0"
        ],
        [
         "Survived",
         "0",
         "0.0"
        ]
       ],
       "shape": {
        "columns": 2,
        "rows": 7
       }
      },
      "text/html": [
       "<div>\n",
       "<style scoped>\n",
       "    .dataframe tbody tr th:only-of-type {\n",
       "        vertical-align: middle;\n",
       "    }\n",
       "\n",
       "    .dataframe tbody tr th {\n",
       "        vertical-align: top;\n",
       "    }\n",
       "\n",
       "    .dataframe thead th {\n",
       "        text-align: right;\n",
       "    }\n",
       "</style>\n",
       "<table border=\"1\" class=\"dataframe\">\n",
       "  <thead>\n",
       "    <tr style=\"text-align: right;\">\n",
       "      <th></th>\n",
       "      <th>count</th>\n",
       "      <th>percent</th>\n",
       "    </tr>\n",
       "  </thead>\n",
       "  <tbody>\n",
       "    <tr>\n",
       "      <th>Pclass</th>\n",
       "      <td>0</td>\n",
       "      <td>0.00</td>\n",
       "    </tr>\n",
       "    <tr>\n",
       "      <th>Sex</th>\n",
       "      <td>0</td>\n",
       "      <td>0.00</td>\n",
       "    </tr>\n",
       "    <tr>\n",
       "      <th>Age</th>\n",
       "      <td>177</td>\n",
       "      <td>19.87</td>\n",
       "    </tr>\n",
       "    <tr>\n",
       "      <th>SibSp</th>\n",
       "      <td>0</td>\n",
       "      <td>0.00</td>\n",
       "    </tr>\n",
       "    <tr>\n",
       "      <th>Parch</th>\n",
       "      <td>0</td>\n",
       "      <td>0.00</td>\n",
       "    </tr>\n",
       "    <tr>\n",
       "      <th>Fare</th>\n",
       "      <td>0</td>\n",
       "      <td>0.00</td>\n",
       "    </tr>\n",
       "    <tr>\n",
       "      <th>Survived</th>\n",
       "      <td>0</td>\n",
       "      <td>0.00</td>\n",
       "    </tr>\n",
       "  </tbody>\n",
       "</table>\n",
       "</div>"
      ],
      "text/plain": [
       "          count  percent\n",
       "Pclass        0     0.00\n",
       "Sex           0     0.00\n",
       "Age         177    19.87\n",
       "SibSp         0     0.00\n",
       "Parch         0     0.00\n",
       "Fare          0     0.00\n",
       "Survived      0     0.00"
      ]
     },
     "execution_count": 156,
     "metadata": {},
     "output_type": "execute_result"
    }
   ],
   "source": [
    "missing_counts = df.isnull().sum()\n",
    "missing_percent = (missing_counts / len(df)) * 100\n",
    "\n",
    "pd.DataFrame({'count': missing_counts, 'percent': missing_percent.round(2)})"
   ]
  },
  {
   "cell_type": "markdown",
   "id": "8060cbc6",
   "metadata": {},
   "source": [
    "Удаление приведет к поетере 20% датасета. Заполню пропуски в Age медианой, которая более устойчива к выбросам."
   ]
  },
  {
   "cell_type": "code",
   "execution_count": 157,
   "id": "4ced0f4f",
   "metadata": {},
   "outputs": [],
   "source": [
    "df['Age'] = df['Age'].fillna(df['Age'].median())"
   ]
  },
  {
   "cell_type": "code",
   "execution_count": 158,
   "id": "1ec2a3f2",
   "metadata": {},
   "outputs": [
    {
     "data": {
      "application/vnd.microsoft.datawrangler.viewer.v0+json": {
       "columns": [
        {
         "name": "index",
         "rawType": "object",
         "type": "string"
        },
        {
         "name": "кол-во выбросов",
         "rawType": "int64",
         "type": "integer"
        }
       ],
       "ref": "d451e467-60fa-458d-84b4-6c336457afbe",
       "rows": [
        [
         "Pclass",
         "0"
        ],
        [
         "Age",
         "66"
        ],
        [
         "SibSp",
         "46"
        ],
        [
         "Parch",
         "213"
        ],
        [
         "Fare",
         "116"
        ],
        [
         "Survived",
         "0"
        ]
       ],
       "shape": {
        "columns": 1,
        "rows": 6
       }
      },
      "text/html": [
       "<div>\n",
       "<style scoped>\n",
       "    .dataframe tbody tr th:only-of-type {\n",
       "        vertical-align: middle;\n",
       "    }\n",
       "\n",
       "    .dataframe tbody tr th {\n",
       "        vertical-align: top;\n",
       "    }\n",
       "\n",
       "    .dataframe thead th {\n",
       "        text-align: right;\n",
       "    }\n",
       "</style>\n",
       "<table border=\"1\" class=\"dataframe\">\n",
       "  <thead>\n",
       "    <tr style=\"text-align: right;\">\n",
       "      <th></th>\n",
       "      <th>кол-во выбросов</th>\n",
       "    </tr>\n",
       "  </thead>\n",
       "  <tbody>\n",
       "    <tr>\n",
       "      <th>Pclass</th>\n",
       "      <td>0</td>\n",
       "    </tr>\n",
       "    <tr>\n",
       "      <th>Age</th>\n",
       "      <td>66</td>\n",
       "    </tr>\n",
       "    <tr>\n",
       "      <th>SibSp</th>\n",
       "      <td>46</td>\n",
       "    </tr>\n",
       "    <tr>\n",
       "      <th>Parch</th>\n",
       "      <td>213</td>\n",
       "    </tr>\n",
       "    <tr>\n",
       "      <th>Fare</th>\n",
       "      <td>116</td>\n",
       "    </tr>\n",
       "    <tr>\n",
       "      <th>Survived</th>\n",
       "      <td>0</td>\n",
       "    </tr>\n",
       "  </tbody>\n",
       "</table>\n",
       "</div>"
      ],
      "text/plain": [
       "          кол-во выбросов\n",
       "Pclass                  0\n",
       "Age                    66\n",
       "SibSp                  46\n",
       "Parch                 213\n",
       "Fare                  116\n",
       "Survived                0"
      ]
     },
     "execution_count": 158,
     "metadata": {},
     "output_type": "execute_result"
    }
   ],
   "source": [
    "outliers = {}\n",
    "numeric_cols = df.select_dtypes(include=['int64','float64']).columns.tolist()\n",
    "for col in numeric_cols:\n",
    "    Q1 = df[col].quantile(0.25)\n",
    "    Q3 = df[col].quantile(0.75)\n",
    "    IQR = Q3 - Q1\n",
    "    low_border = Q1 - 1.5 * IQR\n",
    "    high_border = Q3 + 1.5 * IQR\n",
    "    mask_outliers = (df[col] < low_border) | (df[col] > high_border)\n",
    "    outliers[col] = mask_outliers.sum()\n",
    "\n",
    "pd.DataFrame.from_dict(outliers, orient='index', columns=['кол-во выбросов'])"
   ]
  },
  {
   "cell_type": "markdown",
   "id": "fc873325",
   "metadata": {},
   "source": [
    "Удалять нет смысла, тк выбросы это реальные случаи просто в данном контексте они выпадают, например людей довольно старых было мало или семтей с большим числом детей тоже. \n",
    "Имеет смысл прологарифмировать цену, чтобы огромная стоимость первого класса не сбивала модель"
   ]
  },
  {
   "cell_type": "code",
   "execution_count": 159,
   "id": "0c31b560",
   "metadata": {},
   "outputs": [],
   "source": [
    "df['Fare'] = np.log1p(df['Fare'])"
   ]
  },
  {
   "cell_type": "code",
   "execution_count": 160,
   "id": "f29df9ad",
   "metadata": {},
   "outputs": [
    {
     "data": {
      "image/png": "[encoded data removed]",
      "text/plain": [
       "<Figure size 700x500 with 1 Axes>"
      ]
     },
     "metadata": {},
     "output_type": "display_data"
    }
   ],
   "source": [
    "plt.figure(figsize=(7,5))\n",
    "sns.boxplot(data=df, x='Pclass', y='Age', hue='Survived', palette='Set2')\n",
    "plt.title('Возраст пассажиров по классам и выживаемости')\n",
    "plt.xlabel('Класс каюты')\n",
    "plt.ylabel('Возраст')\n",
    "plt.show()"
   ]
  },
  {
   "cell_type": "code",
   "execution_count": 161,
   "id": "f3ef5712",
   "metadata": {},
   "outputs": [
    {
     "data": {
      "image/png": "[encoded data removed]",
      "text/plain": [
       "<Figure size 800x500 with 1 Axes>"
      ]
     },
     "metadata": {},
     "output_type": "display_data"
    }
   ],
   "source": [
    "plt.figure(figsize=(8,5))\n",
    "sns.histplot(data=df, x='Age', hue='Survived', bins=30, kde=True, palette='Set1')\n",
    "plt.title('Распределение возраста по выжившим и погибшим')\n",
    "plt.xlabel('Возраст')\n",
    "plt.ylabel('Количество пассажиров')\n",
    "plt.show()"
   ]
  },
  {
   "cell_type": "code",
   "execution_count": 162,
   "id": "fc7fd87a",
   "metadata": {},
   "outputs": [
    {
     "data": {
      "image/png": "[encoded data removed]",
      "text/plain": [
       "<Figure size 600x500 with 1 Axes>"
      ]
     },
     "metadata": {},
     "output_type": "display_data"
    }
   ],
   "source": [
    "plt.figure(figsize=(6,5))\n",
    "sns.countplot(data=df, x='Sex', hue='Survived', palette='Set2')\n",
    "plt.title('Выживаемость в зависимости от пола')\n",
    "plt.xlabel('Пол')\n",
    "plt.ylabel('Количество пассажиров')\n",
    "plt.legend(title='Survived', labels=['Погиб', 'Выжил'])\n",
    "plt.show()"
   ]
  },
  {
   "cell_type": "markdown",
   "id": "7d5e043a",
   "metadata": {},
   "source": [
    "В каждом классе больше выживших среди более молодых людей. Также чем выше класс тем старше людей в среднем.\n",
    "Со стороны детей больше выживших, а также пожилые люди с большей вероятностью погибали.\n",
    "Также женщин погибло гораздо меньше в процентах от общего числа по каждому полу."
   ]
  },
  {
   "cell_type": "code",
   "execution_count": 163,
   "id": "2c639adf",
   "metadata": {},
   "outputs": [
    {
     "data": {
      "application/vnd.microsoft.datawrangler.viewer.v0+json": {
       "columns": [
        {
         "name": "index",
         "rawType": "int64",
         "type": "integer"
        },
        {
         "name": "Pclass",
         "rawType": "int64",
         "type": "integer"
        },
        {
         "name": "Sex",
         "rawType": "object",
         "type": "string"
        },
        {
         "name": "Age",
         "rawType": "float64",
         "type": "float"
        },
        {
         "name": "SibSp",
         "rawType": "int64",
         "type": "integer"
        },
        {
         "name": "Parch",
         "rawType": "int64",
         "type": "integer"
        },
        {
         "name": "Fare",
         "rawType": "float64",
         "type": "float"
        }
       ],
       "ref": "8158421c-85d1-443d-9de7-e9eb88791ca6",
       "rows": [
        [
         "0",
         "3",
         "male",
         "22.0",
         "1",
         "0",
         "2.1102132003465894"
        ],
        [
         "1",
         "1",
         "female",
         "38.0",
         "1",
         "0",
         "4.2805931204649"
        ],
        [
         "2",
         "3",
         "female",
         "26.0",
         "0",
         "0",
         "2.188856327665703"
        ],
        [
         "3",
         "1",
         "female",
         "35.0",
         "1",
         "0",
         "3.9908341858524357"
        ],
        [
         "4",
         "3",
         "male",
         "35.0",
         "0",
         "0",
         "2.2027647577118348"
        ]
       ],
       "shape": {
        "columns": 6,
        "rows": 5
       }
      },
      "text/html": [
       "<div>\n",
       "<style scoped>\n",
       "    .dataframe tbody tr th:only-of-type {\n",
       "        vertical-align: middle;\n",
       "    }\n",
       "\n",
       "    .dataframe tbody tr th {\n",
       "        vertical-align: top;\n",
       "    }\n",
       "\n",
       "    .dataframe thead th {\n",
       "        text-align: right;\n",
       "    }\n",
       "</style>\n",
       "<table border=\"1\" class=\"dataframe\">\n",
       "  <thead>\n",
       "    <tr style=\"text-align: right;\">\n",
       "      <th></th>\n",
       "      <th>Pclass</th>\n",
       "      <th>Sex</th>\n",
       "      <th>Age</th>\n",
       "      <th>SibSp</th>\n",
       "      <th>Parch</th>\n",
       "      <th>Fare</th>\n",
       "    </tr>\n",
       "  </thead>\n",
       "  <tbody>\n",
       "    <tr>\n",
       "      <th>0</th>\n",
       "      <td>3</td>\n",
       "      <td>male</td>\n",
       "      <td>22.0</td>\n",
       "      <td>1</td>\n",
       "      <td>0</td>\n",
       "      <td>2.110213</td>\n",
       "    </tr>\n",
       "    <tr>\n",
       "      <th>1</th>\n",
       "      <td>1</td>\n",
       "      <td>female</td>\n",
       "      <td>38.0</td>\n",
       "      <td>1</td>\n",
       "      <td>0</td>\n",
       "      <td>4.280593</td>\n",
       "    </tr>\n",
       "    <tr>\n",
       "      <th>2</th>\n",
       "      <td>3</td>\n",
       "      <td>female</td>\n",
       "      <td>26.0</td>\n",
       "      <td>0</td>\n",
       "      <td>0</td>\n",
       "      <td>2.188856</td>\n",
       "    </tr>\n",
       "    <tr>\n",
       "      <th>3</th>\n",
       "      <td>1</td>\n",
       "      <td>female</td>\n",
       "      <td>35.0</td>\n",
       "      <td>1</td>\n",
       "      <td>0</td>\n",
       "      <td>3.990834</td>\n",
       "    </tr>\n",
       "    <tr>\n",
       "      <th>4</th>\n",
       "      <td>3</td>\n",
       "      <td>male</td>\n",
       "      <td>35.0</td>\n",
       "      <td>0</td>\n",
       "      <td>0</td>\n",
       "      <td>2.202765</td>\n",
       "    </tr>\n",
       "  </tbody>\n",
       "</table>\n",
       "</div>"
      ],
      "text/plain": [
       "   Pclass     Sex   Age  SibSp  Parch      Fare\n",
       "0       3    male  22.0      1      0  2.110213\n",
       "1       1  female  38.0      1      0  4.280593\n",
       "2       3  female  26.0      0      0  2.188856\n",
       "3       1  female  35.0      1      0  3.990834\n",
       "4       3    male  35.0      0      0  2.202765"
      ]
     },
     "execution_count": 163,
     "metadata": {},
     "output_type": "execute_result"
    }
   ],
   "source": [
    "X = df.drop(columns=['Survived'])\n",
    "y = df['Survived']\n",
    "X.head()"
   ]
  },
  {
   "cell_type": "code",
   "execution_count": 164,
   "id": "af2132c1",
   "metadata": {},
   "outputs": [
    {
     "data": {
      "application/vnd.microsoft.datawrangler.viewer.v0+json": {
       "columns": [
        {
         "name": "index",
         "rawType": "int64",
         "type": "integer"
        },
        {
         "name": "Pclass",
         "rawType": "int64",
         "type": "integer"
        },
        {
         "name": "Age",
         "rawType": "float64",
         "type": "float"
        },
        {
         "name": "SibSp",
         "rawType": "int64",
         "type": "integer"
        },
        {
         "name": "Parch",
         "rawType": "int64",
         "type": "integer"
        },
        {
         "name": "Fare",
         "rawType": "float64",
         "type": "float"
        },
        {
         "name": "Sex_male",
         "rawType": "bool",
         "type": "boolean"
        }
       ],
       "ref": "0e729b7e-5dad-41df-b182-6a87f21aa98a",
       "rows": [
        [
         "0",
         "3",
         "22.0",
         "1",
         "0",
         "2.1102132003465894",
         "True"
        ],
        [
         "1",
         "1",
         "38.0",
         "1",
         "0",
         "4.2805931204649",
         "False"
        ],
        [
         "2",
         "3",
         "26.0",
         "0",
         "0",
         "2.188856327665703",
         "False"
        ],
        [
         "3",
         "1",
         "35.0",
         "1",
         "0",
         "3.9908341858524357",
         "False"
        ],
        [
         "4",
         "3",
         "35.0",
         "0",
         "0",
         "2.2027647577118348",
         "True"
        ]
       ],
       "shape": {
        "columns": 6,
        "rows": 5
       }
      },
      "text/html": [
       "<div>\n",
       "<style scoped>\n",
       "    .dataframe tbody tr th:only-of-type {\n",
       "        vertical-align: middle;\n",
       "    }\n",
       "\n",
       "    .dataframe tbody tr th {\n",
       "        vertical-align: top;\n",
       "    }\n",
       "\n",
       "    .dataframe thead th {\n",
       "        text-align: right;\n",
       "    }\n",
       "</style>\n",
       "<table border=\"1\" class=\"dataframe\">\n",
       "  <thead>\n",
       "    <tr style=\"text-align: right;\">\n",
       "      <th></th>\n",
       "      <th>Pclass</th>\n",
       "      <th>Age</th>\n",
       "      <th>SibSp</th>\n",
       "      <th>Parch</th>\n",
       "      <th>Fare</th>\n",
       "      <th>Sex_male</th>\n",
       "    </tr>\n",
       "  </thead>\n",
       "  <tbody>\n",
       "    <tr>\n",
       "      <th>0</th>\n",
       "      <td>3</td>\n",
       "      <td>22.0</td>\n",
       "      <td>1</td>\n",
       "      <td>0</td>\n",
       "      <td>2.110213</td>\n",
       "      <td>True</td>\n",
       "    </tr>\n",
       "    <tr>\n",
       "      <th>1</th>\n",
       "      <td>1</td>\n",
       "      <td>38.0</td>\n",
       "      <td>1</td>\n",
       "      <td>0</td>\n",
       "      <td>4.280593</td>\n",
       "      <td>False</td>\n",
       "    </tr>\n",
       "    <tr>\n",
       "      <th>2</th>\n",
       "      <td>3</td>\n",
       "      <td>26.0</td>\n",
       "      <td>0</td>\n",
       "      <td>0</td>\n",
       "      <td>2.188856</td>\n",
       "      <td>False</td>\n",
       "    </tr>\n",
       "    <tr>\n",
       "      <th>3</th>\n",
       "      <td>1</td>\n",
       "      <td>35.0</td>\n",
       "      <td>1</td>\n",
       "      <td>0</td>\n",
       "      <td>3.990834</td>\n",
       "      <td>False</td>\n",
       "    </tr>\n",
       "    <tr>\n",
       "      <th>4</th>\n",
       "      <td>3</td>\n",
       "      <td>35.0</td>\n",
       "      <td>0</td>\n",
       "      <td>0</td>\n",
       "      <td>2.202765</td>\n",
       "      <td>True</td>\n",
       "    </tr>\n",
       "  </tbody>\n",
       "</table>\n",
       "</div>"
      ],
      "text/plain": [
       "   Pclass   Age  SibSp  Parch      Fare  Sex_male\n",
       "0       3  22.0      1      0  2.110213      True\n",
       "1       1  38.0      1      0  4.280593     False\n",
       "2       3  26.0      0      0  2.188856     False\n",
       "3       1  35.0      1      0  3.990834     False\n",
       "4       3  35.0      0      0  2.202765      True"
      ]
     },
     "execution_count": 164,
     "metadata": {},
     "output_type": "execute_result"
    }
   ],
   "source": [
    "X = pd.get_dummies(X, columns=['Sex'], drop_first=True)\n",
    "X.head()"
   ]
  },
  {
   "cell_type": "markdown",
   "id": "ceaeddb4",
   "metadata": {},
   "source": [
    "Закодируем возраст через интервалы возраста и будем хранить мин и макс возраст в группе"
   ]
  },
  {
   "cell_type": "code",
   "execution_count": 165,
   "id": "7ea158ed",
   "metadata": {},
   "outputs": [
    {
     "name": "stderr",
     "output_type": "stream",
     "text": [
      "C:\\Users\\Misha\\AppData\\Local\\Temp\\ipykernel_26852\\1376758620.py:7: FutureWarning: The default of observed=False is deprecated and will be changed to True in a future version of pandas. Pass observed=False to retain current behavior or observed=True to adopt the future default and silence this warning.\n",
      "  age_groups = X.groupby('AgeGroup')['Age'].agg(['min','max']).to_dict()\n"
     ]
    },
    {
     "data": {
      "application/vnd.microsoft.datawrangler.viewer.v0+json": {
       "columns": [
        {
         "name": "index",
         "rawType": "int64",
         "type": "integer"
        },
        {
         "name": "Pclass",
         "rawType": "int64",
         "type": "integer"
        },
        {
         "name": "SibSp",
         "rawType": "int64",
         "type": "integer"
        },
        {
         "name": "Parch",
         "rawType": "int64",
         "type": "integer"
        },
        {
         "name": "Fare",
         "rawType": "float64",
         "type": "float"
        },
        {
         "name": "Sex_male",
         "rawType": "bool",
         "type": "boolean"
        },
        {
         "name": "Age_min",
         "rawType": "int64",
         "type": "integer"
        },
        {
         "name": "Age_max",
         "rawType": "int64",
         "type": "integer"
        }
       ],
       "ref": "bfe3ffba-f695-48eb-9251-590488a48935",
       "rows": [
        [
         "0",
         "3",
         "1",
         "0",
         "2.1102132003465894",
         "True",
         "19",
         "25"
        ],
        [
         "1",
         "1",
         "1",
         "0",
         "4.2805931204649",
         "False",
         "36",
         "45"
        ],
        [
         "2",
         "3",
         "0",
         "0",
         "2.188856327665703",
         "False",
         "26",
         "35"
        ],
        [
         "3",
         "1",
         "1",
         "0",
         "3.9908341858524357",
         "False",
         "26",
         "35"
        ],
        [
         "4",
         "3",
         "0",
         "0",
         "2.2027647577118348",
         "True",
         "26",
         "35"
        ]
       ],
       "shape": {
        "columns": 7,
        "rows": 5
       }
      },
      "text/html": [
       "<div>\n",
       "<style scoped>\n",
       "    .dataframe tbody tr th:only-of-type {\n",
       "        vertical-align: middle;\n",
       "    }\n",
       "\n",
       "    .dataframe tbody tr th {\n",
       "        vertical-align: top;\n",
       "    }\n",
       "\n",
       "    .dataframe thead th {\n",
       "        text-align: right;\n",
       "    }\n",
       "</style>\n",
       "<table border=\"1\" class=\"dataframe\">\n",
       "  <thead>\n",
       "    <tr style=\"text-align: right;\">\n",
       "      <th></th>\n",
       "      <th>Pclass</th>\n",
       "      <th>SibSp</th>\n",
       "      <th>Parch</th>\n",
       "      <th>Fare</th>\n",
       "      <th>Sex_male</th>\n",
       "      <th>Age_min</th>\n",
       "      <th>Age_max</th>\n",
       "    </tr>\n",
       "  </thead>\n",
       "  <tbody>\n",
       "    <tr>\n",
       "      <th>0</th>\n",
       "      <td>3</td>\n",
       "      <td>1</td>\n",
       "      <td>0</td>\n",
       "      <td>2.110213</td>\n",
       "      <td>True</td>\n",
       "      <td>19</td>\n",
       "      <td>25</td>\n",
       "    </tr>\n",
       "    <tr>\n",
       "      <th>1</th>\n",
       "      <td>1</td>\n",
       "      <td>1</td>\n",
       "      <td>0</td>\n",
       "      <td>4.280593</td>\n",
       "      <td>False</td>\n",
       "      <td>36</td>\n",
       "      <td>45</td>\n",
       "    </tr>\n",
       "    <tr>\n",
       "      <th>2</th>\n",
       "      <td>3</td>\n",
       "      <td>0</td>\n",
       "      <td>0</td>\n",
       "      <td>2.188856</td>\n",
       "      <td>False</td>\n",
       "      <td>26</td>\n",
       "      <td>35</td>\n",
       "    </tr>\n",
       "    <tr>\n",
       "      <th>3</th>\n",
       "      <td>1</td>\n",
       "      <td>1</td>\n",
       "      <td>0</td>\n",
       "      <td>3.990834</td>\n",
       "      <td>False</td>\n",
       "      <td>26</td>\n",
       "      <td>35</td>\n",
       "    </tr>\n",
       "    <tr>\n",
       "      <th>4</th>\n",
       "      <td>3</td>\n",
       "      <td>0</td>\n",
       "      <td>0</td>\n",
       "      <td>2.202765</td>\n",
       "      <td>True</td>\n",
       "      <td>26</td>\n",
       "      <td>35</td>\n",
       "    </tr>\n",
       "  </tbody>\n",
       "</table>\n",
       "</div>"
      ],
      "text/plain": [
       "   Pclass  SibSp  Parch      Fare  Sex_male  Age_min  Age_max\n",
       "0       3      1      0  2.110213      True       19       25\n",
       "1       1      1      0  4.280593     False       36       45\n",
       "2       3      0      0  2.188856     False       26       35\n",
       "3       1      1      0  3.990834     False       26       35\n",
       "4       3      0      0  2.202765      True       26       35"
      ]
     },
     "execution_count": 165,
     "metadata": {},
     "output_type": "execute_result"
    }
   ],
   "source": [
    "X['AgeGroup'] = pd.cut(\n",
    "    X['Age'],\n",
    "    bins=[0, 5, 12, 18, 25, 35, 45, 55, 65, 80],\n",
    "    labels=['0-5','6-12','13-18','19-25','26-35','36-45','46-55','56-65','66-80']\n",
    ")\n",
    "\n",
    "age_groups = X.groupby('AgeGroup')['Age'].agg(['min','max']).to_dict()\n",
    "\n",
    "X['Age_min'] = X['AgeGroup'].map(age_groups['min']).astype(int)\n",
    "X['Age_max'] = X['AgeGroup'].map(age_groups['max']).astype(int)\n",
    "\n",
    "X = X.drop(columns=['Age','AgeGroup'])\n",
    "\n",
    "X.head()"
   ]
  },
  {
   "cell_type": "code",
   "execution_count": 166,
   "id": "db88719d",
   "metadata": {},
   "outputs": [
    {
     "data": {
      "text/plain": [
       "0.8156424581005587"
      ]
     },
     "execution_count": 166,
     "metadata": {},
     "output_type": "execute_result"
    }
   ],
   "source": [
    "X_train, X_test, y_train, y_test = train_test_split(\n",
    "    X, y, test_size=0.2, random_state=42,\n",
    ")\n",
    "\n",
    "model = LogisticRegression(max_iter=1000, random_state=42)\n",
    "model.fit(X_train, y_train)\n",
    "preds = model.predict(X_test)\n",
    "\n",
    "accuracy_score(y_test, preds)"
   ]
  },
  {
   "cell_type": "markdown",
   "id": "2894ebcb",
   "metadata": {},
   "source": [
    "# Преобразования \n",
    "- Проверены и обработаны пропуски:\n",
    "  - `Age` → заполнен медианой (устойчиво к выбросам);\n",
    "  - `Cabin` → убран, т.к. очень много пропусков.\n",
    "- Категориальный признак (`Sex`) закодирован в числовой формат через `pd.get_dummies`.\n",
    "- Признак `Fare` преобразован через логарифмирование (`np.log1p`) для уменьшения влияния выбросов.\n",
    "- Признак `Age` преобразован в группы интервалов; для каждой группы сохранены нижняя (`Age_min`) и верхняя (`Age_max`) границы как новые числовые признаки.\n",
    "- Исключены нерелевантные признаки как не несущие полезной информации в исходном виде.\n",
    "\n",
    "---\n",
    "\n",
    "# Сравнение метрик\n",
    "- Модель на \"сырых\" данных (без обработки) показала метрику около **0.703**.\n",
    "- После предобработки, кодирования категориальных признаков, обработки пропусков и добавления новых признаков (`Age_min`, `Age_max`) метрика улучшилась и стала **0.816**.\n",
    "\n",
    "---\n",
    "\n",
    "# Вывод\n",
    "С данными работать необходимо, тк результат сильно зависит как от самой модели, так и от самих данных, их обработки и анализа.\n",
    "Для **больших данных** необходимость в исследовании и преобразовании сохраняется. Тк в них может быть гораздо больше выбросов некорректных значений или обработка даст еще больше прироста метрики"
   ]
  }
 ],
 "metadata": {
  "kernelspec": {
   "display_name": "venv",
   "language": "python",
   "name": "python3"
  },
  "language_info": {
   "codemirror_mode": {
    "name": "ipython",
    "version": 3
   },
   "file_extension": ".py",
   "mimetype": "text/x-python",
   "name": "python",
   "nbconvert_exporter": "python",
   "pygments_lexer": "ipython3",
   "version": "3.12.0"
  }
 },
 "nbformat": 4,
 "nbformat_minor": 5
}
