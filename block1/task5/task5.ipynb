{
 "cells": [
  {
   "cell_type": "code",
   "execution_count": 263,
   "id": "9ff25cc9",
   "metadata": {},
   "outputs": [
    {
     "name": "stdout",
     "output_type": "stream",
     "text": [
      ".. _california_housing_dataset:\n",
      "\n",
      "California Housing dataset\n",
      "--------------------------\n",
      "\n",
      "**Data Set Characteristics:**\n",
      "\n",
      ":Number of Instances: 20640\n",
      "\n",
      ":Number of Attributes: 8 numeric, predictive attributes and the target\n",
      "\n",
      ":Attribute Information:\n",
      "    - MedInc        median income in block group\n",
      "    - HouseAge      median house age in block group\n",
      "    - AveRooms      average number of rooms per household\n",
      "    - AveBedrms     average number of bedrooms per household\n",
      "    - Population    block group population\n",
      "    - AveOccup      average number of household members\n",
      "    - Latitude      block group latitude\n",
      "    - Longitude     block group longitude\n",
      "\n",
      ":Missing Attribute Values: None\n",
      "\n",
      "This dataset was obtained from the StatLib repository.\n",
      "https://www.dcc.fc.up.pt/~ltorgo/Regression/cal_housing.html\n",
      "\n",
      "The target variable is the median house value for California districts,\n",
      "expressed in hundreds of thousands of dollars ($100,000).\n",
      "\n",
      "This dataset was derived from the 1990 U.S. census, using one row per census\n",
      "block group. A block group is the smallest geographical unit for which the U.S.\n",
      "Census Bureau publishes sample data (a block group typically has a population\n",
      "of 600 to 3,000 people).\n",
      "\n",
      "A household is a group of people residing within a home. Since the average\n",
      "number of rooms and bedrooms in this dataset are provided per household, these\n",
      "columns may take surprisingly large values for block groups with few households\n",
      "and many empty houses, such as vacation resorts.\n",
      "\n",
      "It can be downloaded/loaded using the\n",
      ":func:`sklearn.datasets.fetch_california_housing` function.\n",
      "\n",
      ".. rubric:: References\n",
      "\n",
      "- Pace, R. Kelley and Ronald Barry, Sparse Spatial Autoregressions,\n",
      "  Statistics and Probability Letters, 33:291-297, 1997.\n",
      "\n"
     ]
    }
   ],
   "source": [
    "import pandas as pd\n",
    "import numpy as np\n",
    "from sklearn.datasets import fetch_california_housing\n",
    "from sklearn.model_selection import train_test_split\n",
    "from sklearn.linear_model import LinearRegression\n",
    "from sklearn.metrics import mean_squared_error, r2_score\n",
    "\n",
    "\n",
    "data = fetch_california_housing(as_frame=True)\n",
    "X = data.data\n",
    "y = data.target\n",
    "\n",
    "\n",
    "print(data.DESCR)"
   ]
  },
  {
   "cell_type": "code",
   "execution_count": 264,
   "id": "1f5d936b",
   "metadata": {},
   "outputs": [
    {
     "data": {
      "application/vnd.microsoft.datawrangler.viewer.v0+json": {
       "columns": [
        {
         "name": "index",
         "rawType": "int64",
         "type": "integer"
        },
        {
         "name": "MedInc",
         "rawType": "float64",
         "type": "float"
        },
        {
         "name": "HouseAge",
         "rawType": "float64",
         "type": "float"
        },
        {
         "name": "AveRooms",
         "rawType": "float64",
         "type": "float"
        },
        {
         "name": "AveBedrms",
         "rawType": "float64",
         "type": "float"
        },
        {
         "name": "Population",
         "rawType": "float64",
         "type": "float"
        },
        {
         "name": "AveOccup",
         "rawType": "float64",
         "type": "float"
        },
        {
         "name": "Latitude",
         "rawType": "float64",
         "type": "float"
        },
        {
         "name": "Longitude",
         "rawType": "float64",
         "type": "float"
        }
       ],
       "ref": "83d2114e-88ae-4229-9627-47bbe6ab47b0",
       "rows": [
        [
         "0",
         "8.3252",
         "41.0",
         "6.984126984126984",
         "1.0238095238095237",
         "322.0",
         "2.5555555555555554",
         "37.88",
         "-122.23"
        ],
        [
         "1",
         "8.3014",
         "21.0",
         "6.238137082601054",
         "0.9718804920913884",
         "2401.0",
         "2.109841827768014",
         "37.86",
         "-122.22"
        ],
        [
         "2",
         "7.2574",
         "52.0",
         "8.288135593220339",
         "1.073446327683616",
         "496.0",
         "2.8022598870056497",
         "37.85",
         "-122.24"
        ],
        [
         "3",
         "5.6431",
         "52.0",
         "5.8173515981735155",
         "1.0730593607305936",
         "558.0",
         "2.547945205479452",
         "37.85",
         "-122.25"
        ],
        [
         "4",
         "3.8462",
         "52.0",
         "6.281853281853282",
         "1.0810810810810811",
         "565.0",
         "2.1814671814671813",
         "37.85",
         "-122.25"
        ]
       ],
       "shape": {
        "columns": 8,
        "rows": 5
       }
      },
      "text/html": [
       "<div>\n",
       "<style scoped>\n",
       "    .dataframe tbody tr th:only-of-type {\n",
       "        vertical-align: middle;\n",
       "    }\n",
       "\n",
       "    .dataframe tbody tr th {\n",
       "        vertical-align: top;\n",
       "    }\n",
       "\n",
       "    .dataframe thead th {\n",
       "        text-align: right;\n",
       "    }\n",
       "</style>\n",
       "<table border=\"1\" class=\"dataframe\">\n",
       "  <thead>\n",
       "    <tr style=\"text-align: right;\">\n",
       "      <th></th>\n",
       "      <th>MedInc</th>\n",
       "      <th>HouseAge</th>\n",
       "      <th>AveRooms</th>\n",
       "      <th>AveBedrms</th>\n",
       "      <th>Population</th>\n",
       "      <th>AveOccup</th>\n",
       "      <th>Latitude</th>\n",
       "      <th>Longitude</th>\n",
       "    </tr>\n",
       "  </thead>\n",
       "  <tbody>\n",
       "    <tr>\n",
       "      <th>0</th>\n",
       "      <td>8.3252</td>\n",
       "      <td>41.0</td>\n",
       "      <td>6.984127</td>\n",
       "      <td>1.023810</td>\n",
       "      <td>322.0</td>\n",
       "      <td>2.555556</td>\n",
       "      <td>37.88</td>\n",
       "      <td>-122.23</td>\n",
       "    </tr>\n",
       "    <tr>\n",
       "      <th>1</th>\n",
       "      <td>8.3014</td>\n",
       "      <td>21.0</td>\n",
       "      <td>6.238137</td>\n",
       "      <td>0.971880</td>\n",
       "      <td>2401.0</td>\n",
       "      <td>2.109842</td>\n",
       "      <td>37.86</td>\n",
       "      <td>-122.22</td>\n",
       "    </tr>\n",
       "    <tr>\n",
       "      <th>2</th>\n",
       "      <td>7.2574</td>\n",
       "      <td>52.0</td>\n",
       "      <td>8.288136</td>\n",
       "      <td>1.073446</td>\n",
       "      <td>496.0</td>\n",
       "      <td>2.802260</td>\n",
       "      <td>37.85</td>\n",
       "      <td>-122.24</td>\n",
       "    </tr>\n",
       "    <tr>\n",
       "      <th>3</th>\n",
       "      <td>5.6431</td>\n",
       "      <td>52.0</td>\n",
       "      <td>5.817352</td>\n",
       "      <td>1.073059</td>\n",
       "      <td>558.0</td>\n",
       "      <td>2.547945</td>\n",
       "      <td>37.85</td>\n",
       "      <td>-122.25</td>\n",
       "    </tr>\n",
       "    <tr>\n",
       "      <th>4</th>\n",
       "      <td>3.8462</td>\n",
       "      <td>52.0</td>\n",
       "      <td>6.281853</td>\n",
       "      <td>1.081081</td>\n",
       "      <td>565.0</td>\n",
       "      <td>2.181467</td>\n",
       "      <td>37.85</td>\n",
       "      <td>-122.25</td>\n",
       "    </tr>\n",
       "  </tbody>\n",
       "</table>\n",
       "</div>"
      ],
      "text/plain": [
       "   MedInc  HouseAge  AveRooms  AveBedrms  Population  AveOccup  Latitude  \\\n",
       "0  8.3252      41.0  6.984127   1.023810       322.0  2.555556     37.88   \n",
       "1  8.3014      21.0  6.238137   0.971880      2401.0  2.109842     37.86   \n",
       "2  7.2574      52.0  8.288136   1.073446       496.0  2.802260     37.85   \n",
       "3  5.6431      52.0  5.817352   1.073059       558.0  2.547945     37.85   \n",
       "4  3.8462      52.0  6.281853   1.081081       565.0  2.181467     37.85   \n",
       "\n",
       "   Longitude  \n",
       "0    -122.23  \n",
       "1    -122.22  \n",
       "2    -122.24  \n",
       "3    -122.25  \n",
       "4    -122.25  "
      ]
     },
     "execution_count": 264,
     "metadata": {},
     "output_type": "execute_result"
    }
   ],
   "source": [
    "X.head()"
   ]
  },
  {
   "cell_type": "code",
   "execution_count": 265,
   "id": "ee3c5778",
   "metadata": {},
   "outputs": [
    {
     "data": {
      "application/vnd.microsoft.datawrangler.viewer.v0+json": {
       "columns": [
        {
         "name": "index",
         "rawType": "int64",
         "type": "integer"
        },
        {
         "name": "MedHouseVal",
         "rawType": "float64",
         "type": "float"
        }
       ],
       "ref": "408eed9f-c38a-4669-b13f-f5034e30bb7b",
       "rows": [
        [
         "0",
         "4.526"
        ],
        [
         "1",
         "3.585"
        ],
        [
         "2",
         "3.521"
        ],
        [
         "3",
         "3.413"
        ],
        [
         "4",
         "3.422"
        ]
       ],
       "shape": {
        "columns": 1,
        "rows": 5
       }
      },
      "text/plain": [
       "0    4.526\n",
       "1    3.585\n",
       "2    3.521\n",
       "3    3.413\n",
       "4    3.422\n",
       "Name: MedHouseVal, dtype: float64"
      ]
     },
     "execution_count": 265,
     "metadata": {},
     "output_type": "execute_result"
    }
   ],
   "source": [
    "y.head()"
   ]
  },
  {
   "cell_type": "code",
   "execution_count": 266,
   "id": "11a11b4e",
   "metadata": {},
   "outputs": [],
   "source": [
    "def evaluate_linear_regression(X_train, X_test, y_train, y_test):\n",
    "    model = LinearRegression()\n",
    "    model.fit(X_train, y_train)\n",
    "\n",
    "    y_train_pred = model.predict(X_train)\n",
    "    y_test_pred = model.predict(X_test)\n",
    "\n",
    "    results = pd.DataFrame({\n",
    "        'RMSE': [\n",
    "            np.sqrt(mean_squared_error(y_train, y_train_pred)),\n",
    "            np.sqrt(mean_squared_error(y_test, y_test_pred))\n",
    "        ],\n",
    "        'R2': [\n",
    "            r2_score(y_train, y_train_pred),\n",
    "            r2_score(y_test, y_test_pred)\n",
    "        ]\n",
    "    }, index=['Train', 'Test'])\n",
    "\n",
    "    return results\n",
    "\n"
   ]
  },
  {
   "cell_type": "code",
   "execution_count": 267,
   "id": "0bec4cf1",
   "metadata": {},
   "outputs": [
    {
     "data": {
      "application/vnd.microsoft.datawrangler.viewer.v0+json": {
       "columns": [
        {
         "name": "index",
         "rawType": "object",
         "type": "string"
        },
        {
         "name": "0",
         "rawType": "int64",
         "type": "integer"
        }
       ],
       "ref": "572b6ec4-4792-42e4-9117-213b4ded3711",
       "rows": [
        [
         "MedInc",
         "0"
        ],
        [
         "HouseAge",
         "0"
        ],
        [
         "AveRooms",
         "0"
        ],
        [
         "AveBedrms",
         "0"
        ],
        [
         "Population",
         "0"
        ],
        [
         "AveOccup",
         "0"
        ],
        [
         "Latitude",
         "0"
        ],
        [
         "Longitude",
         "0"
        ]
       ],
       "shape": {
        "columns": 1,
        "rows": 8
       }
      },
      "text/plain": [
       "MedInc        0\n",
       "HouseAge      0\n",
       "AveRooms      0\n",
       "AveBedrms     0\n",
       "Population    0\n",
       "AveOccup      0\n",
       "Latitude      0\n",
       "Longitude     0\n",
       "dtype: int64"
      ]
     },
     "execution_count": 267,
     "metadata": {},
     "output_type": "execute_result"
    }
   ],
   "source": [
    "X.isnull().sum()"
   ]
  },
  {
   "cell_type": "code",
   "execution_count": 268,
   "id": "6e13fab3",
   "metadata": {},
   "outputs": [
    {
     "data": {
      "application/vnd.microsoft.datawrangler.viewer.v0+json": {
       "columns": [
        {
         "name": "index",
         "rawType": "object",
         "type": "string"
        },
        {
         "name": "RMSE",
         "rawType": "float64",
         "type": "float"
        },
        {
         "name": "R2",
         "rawType": "float64",
         "type": "float"
        }
       ],
       "ref": "d37c98ac-48c9-403f-aa69-f1c0c3905da6",
       "rows": [
        [
         "Train",
         "0.7196757085831575",
         "0.6125511913966952"
        ],
        [
         "Test",
         "0.7455813830127763",
         "0.575787706032451"
        ]
       ],
       "shape": {
        "columns": 2,
        "rows": 2
       }
      },
      "text/html": [
       "<div>\n",
       "<style scoped>\n",
       "    .dataframe tbody tr th:only-of-type {\n",
       "        vertical-align: middle;\n",
       "    }\n",
       "\n",
       "    .dataframe tbody tr th {\n",
       "        vertical-align: top;\n",
       "    }\n",
       "\n",
       "    .dataframe thead th {\n",
       "        text-align: right;\n",
       "    }\n",
       "</style>\n",
       "<table border=\"1\" class=\"dataframe\">\n",
       "  <thead>\n",
       "    <tr style=\"text-align: right;\">\n",
       "      <th></th>\n",
       "      <th>RMSE</th>\n",
       "      <th>R2</th>\n",
       "    </tr>\n",
       "  </thead>\n",
       "  <tbody>\n",
       "    <tr>\n",
       "      <th>Train</th>\n",
       "      <td>0.719676</td>\n",
       "      <td>0.612551</td>\n",
       "    </tr>\n",
       "    <tr>\n",
       "      <th>Test</th>\n",
       "      <td>0.745581</td>\n",
       "      <td>0.575788</td>\n",
       "    </tr>\n",
       "  </tbody>\n",
       "</table>\n",
       "</div>"
      ],
      "text/plain": [
       "           RMSE        R2\n",
       "Train  0.719676  0.612551\n",
       "Test   0.745581  0.575788"
      ]
     },
     "execution_count": 268,
     "metadata": {},
     "output_type": "execute_result"
    }
   ],
   "source": [
    "X_train, X_test, y_train, y_test = train_test_split(\n",
    "        X, y, test_size=0.2, random_state=42\n",
    "    )\n",
    "\n",
    "results = evaluate_linear_regression(X_train, X_test, y_train, y_test)\n",
    "results"
   ]
  },
  {
   "cell_type": "code",
   "execution_count": 269,
   "id": "159c7a5a",
   "metadata": {},
   "outputs": [],
   "source": [
    "data = fetch_california_housing(as_frame=True)\n",
    "X = data.data\n",
    "y = data.target\n",
    "X_train, X_test, y_train, y_test = train_test_split(\n",
    "        X, y, test_size=0.2, random_state=42\n",
    "    )"
   ]
  },
  {
   "cell_type": "code",
   "execution_count": 270,
   "id": "e35ff5f6",
   "metadata": {},
   "outputs": [
    {
     "data": {
      "image/png": "[encoded data removed]",
      "text/plain": [
       "<Figure size 800x500 with 1 Axes>"
      ]
     },
     "metadata": {},
     "output_type": "display_data"
    }
   ],
   "source": [
    "import matplotlib.pyplot as plt\n",
    "import seaborn as sns\n",
    "\n",
    "plt.figure(figsize=(8,5))\n",
    "sns.histplot(y_train, bins=50, kde=True)\n",
    "plt.title('Распределение целевой переменной (MedHouseVal) в train')\n",
    "plt.xlabel('MedHouseVal')\n",
    "plt.ylabel('Количество')\n",
    "plt.show()"
   ]
  },
  {
   "cell_type": "markdown",
   "id": "a68129e7",
   "metadata": {},
   "source": [
    "Видно резкий всплеск на уровне 5, что можно считать выбросами (аномалиями)"
   ]
  },
  {
   "cell_type": "code",
   "execution_count": 271,
   "id": "5f6cb356",
   "metadata": {},
   "outputs": [
    {
     "data": {
      "image/png": "[encoded data removed]",
      "text/plain": [
       "<Figure size 1000x800 with 2 Axes>"
      ]
     },
     "metadata": {},
     "output_type": "display_data"
    }
   ],
   "source": [
    "train_df = X_train.copy()\n",
    "train_df['MedHouseVal'] = y_train.values\n",
    "corr_matrix = train_df.corr()\n",
    "\n",
    "plt.figure(figsize=(10,8))\n",
    "sns.heatmap(corr_matrix, annot=True, fmt='.2f', cmap='coolwarm', center=0)\n",
    "plt.title('Корреляционная матрица признаков (train)')\n",
    "plt.show()"
   ]
  },
  {
   "cell_type": "markdown",
   "id": "a34c770f",
   "metadata": {},
   "source": [
    "AveBedrms можно удалить, так как он сильно дублирует AveRooms.\n",
    "MedInc имеет заметную положительную связь с целевой переменной.\n",
    "Population, AveOccup имеют слабую связь"
   ]
  },
  {
   "cell_type": "code",
   "execution_count": 272,
   "id": "d35d702b",
   "metadata": {},
   "outputs": [],
   "source": [
    "X_train= X_train.drop(columns=['AveBedrms', 'Population', 'AveOccup'])\n",
    "X_test= X_test.drop(columns=['AveBedrms', 'Population', 'AveOccup'])"
   ]
  },
  {
   "cell_type": "code",
   "execution_count": 273,
   "id": "5a81f6dd",
   "metadata": {},
   "outputs": [
    {
     "data": {
      "application/vnd.microsoft.datawrangler.viewer.v0+json": {
       "columns": [
        {
         "name": "index",
         "rawType": "object",
         "type": "string"
        },
        {
         "name": "RMSE",
         "rawType": "float64",
         "type": "float"
        },
        {
         "name": "R2",
         "rawType": "float64",
         "type": "float"
        }
       ],
       "ref": "b20df5b1-9b1b-4804-8665-c66bc8e842ea",
       "rows": [
        [
         "Train",
         "0.7326523285398046",
         "0.5984528848684193"
        ],
        [
         "Test",
         "0.7406555966702127",
         "0.5813744243302474"
        ]
       ],
       "shape": {
        "columns": 2,
        "rows": 2
       }
      },
      "text/html": [
       "<div>\n",
       "<style scoped>\n",
       "    .dataframe tbody tr th:only-of-type {\n",
       "        vertical-align: middle;\n",
       "    }\n",
       "\n",
       "    .dataframe tbody tr th {\n",
       "        vertical-align: top;\n",
       "    }\n",
       "\n",
       "    .dataframe thead th {\n",
       "        text-align: right;\n",
       "    }\n",
       "</style>\n",
       "<table border=\"1\" class=\"dataframe\">\n",
       "  <thead>\n",
       "    <tr style=\"text-align: right;\">\n",
       "      <th></th>\n",
       "      <th>RMSE</th>\n",
       "      <th>R2</th>\n",
       "    </tr>\n",
       "  </thead>\n",
       "  <tbody>\n",
       "    <tr>\n",
       "      <th>Train</th>\n",
       "      <td>0.732652</td>\n",
       "      <td>0.598453</td>\n",
       "    </tr>\n",
       "    <tr>\n",
       "      <th>Test</th>\n",
       "      <td>0.740656</td>\n",
       "      <td>0.581374</td>\n",
       "    </tr>\n",
       "  </tbody>\n",
       "</table>\n",
       "</div>"
      ],
      "text/plain": [
       "           RMSE        R2\n",
       "Train  0.732652  0.598453\n",
       "Test   0.740656  0.581374"
      ]
     },
     "execution_count": 273,
     "metadata": {},
     "output_type": "execute_result"
    }
   ],
   "source": [
    "results = evaluate_linear_regression(X_train, X_test, y_train, y_test)\n",
    "results"
   ]
  },
  {
   "cell_type": "code",
   "execution_count": 274,
   "id": "fed1d852",
   "metadata": {},
   "outputs": [
    {
     "data": {
      "image/png": "[encoded data removed]",
      "text/plain": [
       "<Figure size 1500x1000 with 5 Axes>"
      ]
     },
     "metadata": {},
     "output_type": "display_data"
    }
   ],
   "source": [
    "plt.figure(figsize=(15,10))\n",
    "for i, col in enumerate(X_train.columns, 1):\n",
    "    plt.subplot(3, 3, i)\n",
    "    sns.boxplot(x=X_train[col], color='skyblue')\n",
    "    plt.title(col)\n",
    "plt.tight_layout()\n",
    "plt.show()"
   ]
  },
  {
   "cell_type": "code",
   "execution_count": 275,
   "id": "6bb66796",
   "metadata": {},
   "outputs": [],
   "source": [
    "def remove_outliers_iqr(df, columns):\n",
    "    df_clean = df.copy()\n",
    "    for col in columns:\n",
    "        Q1 = df_clean[col].quantile(0.25)\n",
    "        Q3 = df_clean[col].quantile(0.75)\n",
    "        IQR = Q3 - Q1\n",
    "        lower = Q1 - 1.5 * IQR\n",
    "        upper = Q3 + 1.5 * IQR\n",
    "        df_clean = df_clean[(df_clean[col] >= lower) & (df_clean[col] <= upper)]\n",
    "    return df_clean\n",
    "\n",
    "train_df = X_train.copy()\n",
    "train_df['MedHouseVal'] = y_train.values\n",
    "\n",
    "columns_with_outliers = ['MedInc','AveRooms']\n",
    "train_df_clean = remove_outliers_iqr(train_df, columns_with_outliers)\n",
    "\n",
    "X_train = train_df_clean.drop(columns=['MedHouseVal'])\n",
    "y_train = train_df_clean['MedHouseVal']\n",
    "\n",
    "test_df = X_test.copy()\n",
    "test_df['MedHouseVal'] = y_test.values\n",
    "\n",
    "test_df_clean = remove_outliers_iqr(test_df, columns_with_outliers)\n",
    "\n",
    "X_test = test_df_clean.drop(columns=['MedHouseVal'])\n",
    "y_test = test_df_clean['MedHouseVal']"
   ]
  },
  {
   "cell_type": "code",
   "execution_count": 276,
   "id": "288fa08e",
   "metadata": {},
   "outputs": [
    {
     "data": {
      "application/vnd.microsoft.datawrangler.viewer.v0+json": {
       "columns": [
        {
         "name": "index",
         "rawType": "object",
         "type": "string"
        },
        {
         "name": "RMSE",
         "rawType": "float64",
         "type": "float"
        },
        {
         "name": "R2",
         "rawType": "float64",
         "type": "float"
        }
       ],
       "ref": "50ae698f-d08a-4b7f-9e78-a07b67df46b1",
       "rows": [
        [
         "Train",
         "0.7164361142511583",
         "0.5480856040152948"
        ],
        [
         "Test",
         "0.7297719878277674",
         "0.5138683656757627"
        ]
       ],
       "shape": {
        "columns": 2,
        "rows": 2
       }
      },
      "text/html": [
       "<div>\n",
       "<style scoped>\n",
       "    .dataframe tbody tr th:only-of-type {\n",
       "        vertical-align: middle;\n",
       "    }\n",
       "\n",
       "    .dataframe tbody tr th {\n",
       "        vertical-align: top;\n",
       "    }\n",
       "\n",
       "    .dataframe thead th {\n",
       "        text-align: right;\n",
       "    }\n",
       "</style>\n",
       "<table border=\"1\" class=\"dataframe\">\n",
       "  <thead>\n",
       "    <tr style=\"text-align: right;\">\n",
       "      <th></th>\n",
       "      <th>RMSE</th>\n",
       "      <th>R2</th>\n",
       "    </tr>\n",
       "  </thead>\n",
       "  <tbody>\n",
       "    <tr>\n",
       "      <th>Train</th>\n",
       "      <td>0.716436</td>\n",
       "      <td>0.548086</td>\n",
       "    </tr>\n",
       "    <tr>\n",
       "      <th>Test</th>\n",
       "      <td>0.729772</td>\n",
       "      <td>0.513868</td>\n",
       "    </tr>\n",
       "  </tbody>\n",
       "</table>\n",
       "</div>"
      ],
      "text/plain": [
       "           RMSE        R2\n",
       "Train  0.716436  0.548086\n",
       "Test   0.729772  0.513868"
      ]
     },
     "execution_count": 276,
     "metadata": {},
     "output_type": "execute_result"
    }
   ],
   "source": [
    "results = evaluate_linear_regression(X_train, X_test, y_train, y_test)\n",
    "results"
   ]
  },
  {
   "cell_type": "code",
   "execution_count": 277,
   "id": "87f2a0fd",
   "metadata": {},
   "outputs": [],
   "source": [
    "X_mod = X_train.copy()\n",
    "y_mod = np.log1p(y_train)\n",
    "\n",
    "X_mod['MedInc'] = np.log1p(X_mod['MedInc'])\n",
    "\n",
    "X_modt = X_test.copy()\n",
    "\n",
    "X_modt['MedInc'] = np.log1p(X_modt['MedInc'])"
   ]
  },
  {
   "cell_type": "code",
   "execution_count": 278,
   "id": "05a8bd6b",
   "metadata": {},
   "outputs": [
    {
     "data": {
      "application/vnd.microsoft.datawrangler.viewer.v0+json": {
       "columns": [
        {
         "name": "index",
         "rawType": "object",
         "type": "string"
        },
        {
         "name": "RMSE",
         "rawType": "float64",
         "type": "float"
        },
        {
         "name": "R2",
         "rawType": "float64",
         "type": "float"
        }
       ],
       "ref": "bfe88387-a076-40e0-b63f-47794b2124f8",
       "rows": [
        [
         "Train",
         "0.7176757590087203",
         "0.5465203619304129"
        ],
        [
         "Test",
         "0.7240483324282179",
         "0.5214639942283938"
        ]
       ],
       "shape": {
        "columns": 2,
        "rows": 2
       }
      },
      "text/html": [
       "<div>\n",
       "<style scoped>\n",
       "    .dataframe tbody tr th:only-of-type {\n",
       "        vertical-align: middle;\n",
       "    }\n",
       "\n",
       "    .dataframe tbody tr th {\n",
       "        vertical-align: top;\n",
       "    }\n",
       "\n",
       "    .dataframe thead th {\n",
       "        text-align: right;\n",
       "    }\n",
       "</style>\n",
       "<table border=\"1\" class=\"dataframe\">\n",
       "  <thead>\n",
       "    <tr style=\"text-align: right;\">\n",
       "      <th></th>\n",
       "      <th>RMSE</th>\n",
       "      <th>R2</th>\n",
       "    </tr>\n",
       "  </thead>\n",
       "  <tbody>\n",
       "    <tr>\n",
       "      <th>Train</th>\n",
       "      <td>0.717676</td>\n",
       "      <td>0.546520</td>\n",
       "    </tr>\n",
       "    <tr>\n",
       "      <th>Test</th>\n",
       "      <td>0.724048</td>\n",
       "      <td>0.521464</td>\n",
       "    </tr>\n",
       "  </tbody>\n",
       "</table>\n",
       "</div>"
      ],
      "text/plain": [
       "           RMSE        R2\n",
       "Train  0.717676  0.546520\n",
       "Test   0.724048  0.521464"
      ]
     },
     "execution_count": 278,
     "metadata": {},
     "output_type": "execute_result"
    }
   ],
   "source": [
    "model = LinearRegression()\n",
    "model.fit(X_mod, y_mod)\n",
    "\n",
    "y_train_pred = model.predict(X_mod)\n",
    "y_test_pred = model.predict(X_modt)\n",
    "\n",
    "results = pd.DataFrame({\n",
    "    'RMSE': [\n",
    "        np.sqrt(mean_squared_error(y_train, np.expm1(y_train_pred))),\n",
    "        np.sqrt(mean_squared_error(y_test, np.expm1(y_test_pred)))\n",
    "    ],\n",
    "    'R2': [\n",
    "        r2_score(y_train, np.expm1(y_train_pred)),\n",
    "        r2_score(y_test, np.expm1(y_test_pred))\n",
    "    ]\n",
    "}, index=['Train', 'Test'])\n",
    "\n",
    "results"
   ]
  },
  {
   "cell_type": "markdown",
   "id": "73948f3b",
   "metadata": {},
   "source": [
    "Были удалены признаки со слабой взаимосвязью с целевой переменной и дублированием других признаков, были убраны аномалии, а также добавлено преобразование логарифмирования для целевой переменной и признака.\n",
    "Удалось добиться улучшения метрик.\n",
    "Модели справились в полной мере для улучшения предсказаний необходимы дополнительные исследования и улучшения самой модели"
   ]
  }
 ],
 "metadata": {
  "kernelspec": {
   "display_name": "venv",
   "language": "python",
   "name": "python3"
  },
  "language_info": {
   "codemirror_mode": {
    "name": "ipython",
    "version": 3
   },
   "file_extension": ".py",
   "mimetype": "text/x-python",
   "name": "python",
   "nbconvert_exporter": "python",
   "pygments_lexer": "ipython3",
   "version": "3.12.0"
  }
 },
 "nbformat": 4,
 "nbformat_minor": 5
}
