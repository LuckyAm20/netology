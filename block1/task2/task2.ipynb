{
 "cells": [
  {
   "cell_type": "code",
   "execution_count": 231,
   "id": "e152ddca",
   "metadata": {},
   "outputs": [],
   "source": [
    "import numpy as np\n",
    "from sklearn import datasets\n",
    "from sklearn.model_selection import train_test_split\n",
    "from sklearn.metrics import accuracy_score\n",
    "import time\n",
    "import pandas as pd"
   ]
  },
  {
   "cell_type": "code",
   "execution_count": 232,
   "id": "07e268aa",
   "metadata": {},
   "outputs": [],
   "source": [
    "class MyLogisticRegression:\n",
    "    def __init__(self, learning_rate=0.1, n_iter=1, optimizer='gd', beta=0.9, beta2=0.999, epsilon=1e-8):\n",
    "        self.learning_rate = learning_rate\n",
    "        self.n_iter = n_iter\n",
    "        self.optimizer = optimizer\n",
    "        self.beta = beta\n",
    "        self.beta2 = beta2\n",
    "        self.epsilon = epsilon\n",
    "        self.weights = None\n",
    "        self.bias = None\n",
    "\n",
    "    def sigmoid(self, z):\n",
    "        return 1 / (1 + np.exp(-z))\n",
    "\n",
    "    def fit(self, X, y):\n",
    "        n_samples, n_features = X.shape\n",
    "        self.weights = np.zeros(n_features)\n",
    "        self.bias = 0\n",
    "\n",
    "        Eg_w = np.zeros(n_features)\n",
    "        Eg_b = 0\n",
    "\n",
    "        m_w = np.zeros(n_features)\n",
    "        v_w = np.zeros(n_features)\n",
    "        m_b = 0\n",
    "        v_b = 0\n",
    "\n",
    "        for t in range(1, self.n_iter + 1):\n",
    "            linear_model = np.dot(X, self.weights) + self.bias\n",
    "            y_pred = self.sigmoid(linear_model)\n",
    "\n",
    "            dw = (1 / n_samples) * np.dot(X.T, (y_pred - y))\n",
    "            db = (1 / n_samples) * np.sum(y_pred - y)\n",
    "\n",
    "            if self.optimizer == 'gd':\n",
    "                self.weights -= self.learning_rate * dw\n",
    "                self.bias -= self.learning_rate * db\n",
    "\n",
    "            elif self.optimizer == 'rmsprop':\n",
    "                Eg_w = self.beta * Eg_w + (1 - self.beta) * (dw ** 2)\n",
    "                Eg_b = self.beta * Eg_b + (1 - self.beta) * (db ** 2)\n",
    "\n",
    "                self.weights -= (self.learning_rate / (np.sqrt(Eg_w) + self.epsilon)) * dw\n",
    "                self.bias -= (self.learning_rate / (np.sqrt(Eg_b) + self.epsilon)) * db\n",
    "\n",
    "            elif self.optimizer == 'nadam':\n",
    "                m_w = self.beta * m_w + (1 - self.beta) * dw\n",
    "                v_w = self.beta2 * v_w + (1 - self.beta2) * (dw ** 2)\n",
    "                m_b = self.beta * m_b + (1 - self.beta) * db\n",
    "                v_b = self.beta2 * v_b + (1 - self.beta2) * (db ** 2)\n",
    "\n",
    "                m_w_hat = m_w / (1 - self.beta ** t)\n",
    "                v_w_hat = v_w / (1 - self.beta2 ** t)\n",
    "                m_b_hat = m_b / (1 - self.beta ** t)\n",
    "                v_b_hat = v_b / (1 - self.beta2 ** t)\n",
    "\n",
    "                self.weights -= self.learning_rate * (self.beta * m_w_hat + (1 - self.beta) * dw / (1 - self.beta ** t)) / (np.sqrt(v_w_hat) + self.epsilon)\n",
    "                self.bias -= self.learning_rate * (self.beta * m_b_hat + (1 - self.beta) * db / (1 - self.beta ** t)) / (np.sqrt(v_b_hat) + self.epsilon)\n",
    "\n",
    "    def predict(self, X):\n",
    "        y_pred_proba = self.sigmoid(np.dot(X, self.weights) + self.bias)\n",
    "        return np.where(y_pred_proba >= 0.5, 1, 0)"
   ]
  },
  {
   "cell_type": "code",
   "execution_count": 233,
   "id": "8dc01e5b",
   "metadata": {},
   "outputs": [],
   "source": [
    "iris = datasets.load_iris()\n",
    "X = iris.data\n",
    "y = iris.target\n",
    "\n",
    "X = X[y != 0]\n",
    "y = np.where(y[y != 0] == 1, 0, 1)\n",
    "\n",
    "X_train, X_test, y_train, y_test = train_test_split(X, y, test_size=0.2, random_state=42)"
   ]
  },
  {
   "cell_type": "code",
   "execution_count": 234,
   "id": "0ce39fe8",
   "metadata": {},
   "outputs": [
    {
     "data": {
      "application/vnd.microsoft.datawrangler.viewer.v0+json": {
       "columns": [
        {
         "name": "index",
         "rawType": "int64",
         "type": "integer"
        },
        {
         "name": "Метод",
         "rawType": "object",
         "type": "string"
        },
        {
         "name": "Accuracy",
         "rawType": "float64",
         "type": "float"
        },
        {
         "name": "Время работы (с)",
         "rawType": "float64",
         "type": "float"
        }
       ],
       "ref": "1d4a13f4-9d66-406a-b015-7889c50cadda",
       "rows": [
        [
         "0",
         "gd",
         "0.9",
         "0.014998197555541992"
        ],
        [
         "1",
         "rmsprop",
         "0.8",
         "0.027006149291992188"
        ],
        [
         "2",
         "nadam",
         "0.8",
         "0.027994632720947266"
        ]
       ],
       "shape": {
        "columns": 3,
        "rows": 3
       }
      },
      "text/html": [
       "<div>\n",
       "<style scoped>\n",
       "    .dataframe tbody tr th:only-of-type {\n",
       "        vertical-align: middle;\n",
       "    }\n",
       "\n",
       "    .dataframe tbody tr th {\n",
       "        vertical-align: top;\n",
       "    }\n",
       "\n",
       "    .dataframe thead th {\n",
       "        text-align: right;\n",
       "    }\n",
       "</style>\n",
       "<table border=\"1\" class=\"dataframe\">\n",
       "  <thead>\n",
       "    <tr style=\"text-align: right;\">\n",
       "      <th></th>\n",
       "      <th>Метод</th>\n",
       "      <th>Accuracy</th>\n",
       "      <th>Время работы (с)</th>\n",
       "    </tr>\n",
       "  </thead>\n",
       "  <tbody>\n",
       "    <tr>\n",
       "      <th>0</th>\n",
       "      <td>gd</td>\n",
       "      <td>0.9</td>\n",
       "      <td>0.014998</td>\n",
       "    </tr>\n",
       "    <tr>\n",
       "      <th>1</th>\n",
       "      <td>rmsprop</td>\n",
       "      <td>0.8</td>\n",
       "      <td>0.027006</td>\n",
       "    </tr>\n",
       "    <tr>\n",
       "      <th>2</th>\n",
       "      <td>nadam</td>\n",
       "      <td>0.8</td>\n",
       "      <td>0.027995</td>\n",
       "    </tr>\n",
       "  </tbody>\n",
       "</table>\n",
       "</div>"
      ],
      "text/plain": [
       "     Метод  Accuracy  Время работы (с)\n",
       "0       gd       0.9          0.014998\n",
       "1  rmsprop       0.8          0.027006\n",
       "2    nadam       0.8          0.027995"
      ]
     },
     "execution_count": 234,
     "metadata": {},
     "output_type": "execute_result"
    }
   ],
   "source": [
    "results = []\n",
    "methods = ['gd', 'rmsprop', 'nadam']\n",
    "\n",
    "for method in methods:\n",
    "    model = MyLogisticRegression(learning_rate=10, n_iter=1500, optimizer=method)\n",
    "    start_time = time.time()\n",
    "    model.fit(X_train, y_train)\n",
    "    end_time = time.time()\n",
    "    y_pred = model.predict(X_test)\n",
    "    acc = accuracy_score(y_test, y_pred)\n",
    "    results.append((method, acc, end_time - start_time))\n",
    "\n",
    "df_results = pd.DataFrame(results, columns=['Метод', 'Accuracy', 'Время работы (с)'])\n",
    "\n",
    "best_method = df_results.loc[df_results['Accuracy'].idxmax()]\n",
    "df_results\n"
   ]
  },
  {
   "cell_type": "code",
   "execution_count": 235,
   "id": "b6e39465",
   "metadata": {},
   "outputs": [
    {
     "data": {
      "application/vnd.microsoft.datawrangler.viewer.v0+json": {
       "columns": [
        {
         "name": "index",
         "rawType": "int64",
         "type": "integer"
        },
        {
         "name": "Метод",
         "rawType": "object",
         "type": "string"
        },
        {
         "name": "Accuracy",
         "rawType": "float64",
         "type": "float"
        },
        {
         "name": "Время работы (с)",
         "rawType": "float64",
         "type": "float"
        }
       ],
       "ref": "3afb8682-39f1-4d7a-ae3b-b4c4ef83d669",
       "rows": [
        [
         "0",
         "gd",
         "0.85",
         "0.008997917175292969"
        ],
        [
         "1",
         "rmsprop",
         "0.85",
         "0.010999917984008789"
        ],
        [
         "2",
         "nadam",
         "0.85",
         "0.017000198364257812"
        ]
       ],
       "shape": {
        "columns": 3,
        "rows": 3
       }
      },
      "text/html": [
       "<div>\n",
       "<style scoped>\n",
       "    .dataframe tbody tr th:only-of-type {\n",
       "        vertical-align: middle;\n",
       "    }\n",
       "\n",
       "    .dataframe tbody tr th {\n",
       "        vertical-align: top;\n",
       "    }\n",
       "\n",
       "    .dataframe thead th {\n",
       "        text-align: right;\n",
       "    }\n",
       "</style>\n",
       "<table border=\"1\" class=\"dataframe\">\n",
       "  <thead>\n",
       "    <tr style=\"text-align: right;\">\n",
       "      <th></th>\n",
       "      <th>Метод</th>\n",
       "      <th>Accuracy</th>\n",
       "      <th>Время работы (с)</th>\n",
       "    </tr>\n",
       "  </thead>\n",
       "  <tbody>\n",
       "    <tr>\n",
       "      <th>0</th>\n",
       "      <td>gd</td>\n",
       "      <td>0.85</td>\n",
       "      <td>0.008998</td>\n",
       "    </tr>\n",
       "    <tr>\n",
       "      <th>1</th>\n",
       "      <td>rmsprop</td>\n",
       "      <td>0.85</td>\n",
       "      <td>0.011000</td>\n",
       "    </tr>\n",
       "    <tr>\n",
       "      <th>2</th>\n",
       "      <td>nadam</td>\n",
       "      <td>0.85</td>\n",
       "      <td>0.017000</td>\n",
       "    </tr>\n",
       "  </tbody>\n",
       "</table>\n",
       "</div>"
      ],
      "text/plain": [
       "     Метод  Accuracy  Время работы (с)\n",
       "0       gd      0.85          0.008998\n",
       "1  rmsprop      0.85          0.011000\n",
       "2    nadam      0.85          0.017000"
      ]
     },
     "execution_count": 235,
     "metadata": {},
     "output_type": "execute_result"
    }
   ],
   "source": [
    "results = []\n",
    "methods = ['gd', 'rmsprop', 'nadam']\n",
    "\n",
    "for method in methods:\n",
    "    model = MyLogisticRegression(learning_rate=0.01, n_iter=1000, optimizer=method)\n",
    "    start_time = time.time()\n",
    "    model.fit(X_train, y_train)\n",
    "    end_time = time.time()\n",
    "    y_pred = model.predict(X_test)\n",
    "    acc = accuracy_score(y_test, y_pred)\n",
    "    results.append((method, acc, end_time - start_time))\n",
    "\n",
    "df_results = pd.DataFrame(results, columns=['Метод', 'Accuracy', 'Время работы (с)'])\n",
    "\n",
    "best_method = df_results.loc[df_results['Accuracy'].idxmax()]\n",
    "df_results"
   ]
  },
  {
   "cell_type": "code",
   "execution_count": 236,
   "id": "fc78dc53",
   "metadata": {},
   "outputs": [
    {
     "data": {
      "application/vnd.microsoft.datawrangler.viewer.v0+json": {
       "columns": [
        {
         "name": "index",
         "rawType": "int64",
         "type": "integer"
        },
        {
         "name": "Метод",
         "rawType": "object",
         "type": "string"
        },
        {
         "name": "Accuracy",
         "rawType": "float64",
         "type": "float"
        },
        {
         "name": "Время работы (с)",
         "rawType": "float64",
         "type": "float"
        }
       ],
       "ref": "2fa73ed5-433d-46f0-8e76-3f81645f1556",
       "rows": [
        [
         "0",
         "gd",
         "0.4",
         "0.010000228881835938"
        ],
        [
         "1",
         "rmsprop",
         "0.85",
         "0.014000177383422852"
        ],
        [
         "2",
         "nadam",
         "0.85",
         "0.018998146057128906"
        ]
       ],
       "shape": {
        "columns": 3,
        "rows": 3
       }
      },
      "text/html": [
       "<div>\n",
       "<style scoped>\n",
       "    .dataframe tbody tr th:only-of-type {\n",
       "        vertical-align: middle;\n",
       "    }\n",
       "\n",
       "    .dataframe tbody tr th {\n",
       "        vertical-align: top;\n",
       "    }\n",
       "\n",
       "    .dataframe thead th {\n",
       "        text-align: right;\n",
       "    }\n",
       "</style>\n",
       "<table border=\"1\" class=\"dataframe\">\n",
       "  <thead>\n",
       "    <tr style=\"text-align: right;\">\n",
       "      <th></th>\n",
       "      <th>Метод</th>\n",
       "      <th>Accuracy</th>\n",
       "      <th>Время работы (с)</th>\n",
       "    </tr>\n",
       "  </thead>\n",
       "  <tbody>\n",
       "    <tr>\n",
       "      <th>0</th>\n",
       "      <td>gd</td>\n",
       "      <td>0.40</td>\n",
       "      <td>0.010000</td>\n",
       "    </tr>\n",
       "    <tr>\n",
       "      <th>1</th>\n",
       "      <td>rmsprop</td>\n",
       "      <td>0.85</td>\n",
       "      <td>0.014000</td>\n",
       "    </tr>\n",
       "    <tr>\n",
       "      <th>2</th>\n",
       "      <td>nadam</td>\n",
       "      <td>0.85</td>\n",
       "      <td>0.018998</td>\n",
       "    </tr>\n",
       "  </tbody>\n",
       "</table>\n",
       "</div>"
      ],
      "text/plain": [
       "     Метод  Accuracy  Время работы (с)\n",
       "0       gd      0.40          0.010000\n",
       "1  rmsprop      0.85          0.014000\n",
       "2    nadam      0.85          0.018998"
      ]
     },
     "execution_count": 236,
     "metadata": {},
     "output_type": "execute_result"
    }
   ],
   "source": [
    "results = []\n",
    "methods = ['gd', 'rmsprop', 'nadam']\n",
    "\n",
    "for method in methods:\n",
    "    model = MyLogisticRegression(learning_rate=0.001, n_iter=1100, optimizer=method)\n",
    "    start_time = time.time()\n",
    "    model.fit(X_train, y_train)\n",
    "    end_time = time.time()\n",
    "    y_pred = model.predict(X_test)\n",
    "    acc = accuracy_score(y_test, y_pred)\n",
    "    results.append((method, acc, end_time - start_time))\n",
    "\n",
    "df_results = pd.DataFrame(results, columns=['Метод', 'Accuracy', 'Время работы (с)'])\n",
    "\n",
    "best_method = df_results.loc[df_results['Accuracy'].idxmax()]\n",
    "df_results"
   ]
  },
  {
   "cell_type": "code",
   "execution_count": 237,
   "id": "d03b17d4",
   "metadata": {},
   "outputs": [
    {
     "data": {
      "application/vnd.microsoft.datawrangler.viewer.v0+json": {
       "columns": [
        {
         "name": "index",
         "rawType": "int64",
         "type": "integer"
        },
        {
         "name": "Метод",
         "rawType": "object",
         "type": "string"
        },
        {
         "name": "Accuracy",
         "rawType": "float64",
         "type": "float"
        },
        {
         "name": "Время работы (с)",
         "rawType": "float64",
         "type": "float"
        }
       ],
       "ref": "0ad7e1a9-3e50-4766-9728-f268a4860d69",
       "rows": [
        [
         "0",
         "gd",
         "0.9",
         "0.0"
        ],
        [
         "1",
         "rmsprop",
         "0.8",
         "0.0"
        ],
        [
         "2",
         "nadam",
         "0.85",
         "0.0"
        ]
       ],
       "shape": {
        "columns": 3,
        "rows": 3
       }
      },
      "text/html": [
       "<div>\n",
       "<style scoped>\n",
       "    .dataframe tbody tr th:only-of-type {\n",
       "        vertical-align: middle;\n",
       "    }\n",
       "\n",
       "    .dataframe tbody tr th {\n",
       "        vertical-align: top;\n",
       "    }\n",
       "\n",
       "    .dataframe thead th {\n",
       "        text-align: right;\n",
       "    }\n",
       "</style>\n",
       "<table border=\"1\" class=\"dataframe\">\n",
       "  <thead>\n",
       "    <tr style=\"text-align: right;\">\n",
       "      <th></th>\n",
       "      <th>Метод</th>\n",
       "      <th>Accuracy</th>\n",
       "      <th>Время работы (с)</th>\n",
       "    </tr>\n",
       "  </thead>\n",
       "  <tbody>\n",
       "    <tr>\n",
       "      <th>0</th>\n",
       "      <td>gd</td>\n",
       "      <td>0.90</td>\n",
       "      <td>0.0</td>\n",
       "    </tr>\n",
       "    <tr>\n",
       "      <th>1</th>\n",
       "      <td>rmsprop</td>\n",
       "      <td>0.80</td>\n",
       "      <td>0.0</td>\n",
       "    </tr>\n",
       "    <tr>\n",
       "      <th>2</th>\n",
       "      <td>nadam</td>\n",
       "      <td>0.85</td>\n",
       "      <td>0.0</td>\n",
       "    </tr>\n",
       "  </tbody>\n",
       "</table>\n",
       "</div>"
      ],
      "text/plain": [
       "     Метод  Accuracy  Время работы (с)\n",
       "0       gd      0.90               0.0\n",
       "1  rmsprop      0.80               0.0\n",
       "2    nadam      0.85               0.0"
      ]
     },
     "execution_count": 237,
     "metadata": {},
     "output_type": "execute_result"
    }
   ],
   "source": [
    "results = []\n",
    "methods = ['gd', 'rmsprop', 'nadam']\n",
    "\n",
    "for method in methods:\n",
    "    model = MyLogisticRegression(learning_rate=10, n_iter=15, optimizer=method)\n",
    "    start_time = time.time()\n",
    "    model.fit(X_train, y_train)\n",
    "    end_time = time.time()\n",
    "    y_pred = model.predict(X_test)\n",
    "    acc = accuracy_score(y_test, y_pred)\n",
    "    results.append((method, acc, end_time - start_time))\n",
    "\n",
    "df_results = pd.DataFrame(results, columns=['Метод', 'Accuracy', 'Время работы (с)'])\n",
    "\n",
    "best_method = df_results.loc[df_results['Accuracy'].idxmax()]\n",
    "df_results"
   ]
  },
  {
   "cell_type": "markdown",
   "id": "5bf1b4fe",
   "metadata": {},
   "source": [
    "# Вывод\n",
    "Судя по времени работы, а также более стабильному поведению при различный lr и iters, лучше всех был метод GD.\n",
    "Но видно, что различные методы по разному себя ведут при различном числе итераций и lr. Например, при learning_rate=0.001, n_iter=1100 GD был хуже.\n",
    "Поэтому в зависимости от задач нужно выбирать свои методы и для каждого метода подбирать свои оптимальные параметры."
   ]
  }
 ],
 "metadata": {
  "kernelspec": {
   "display_name": "Python 3",
   "language": "python",
   "name": "python3"
  },
  "language_info": {
   "codemirror_mode": {
    "name": "ipython",
    "version": 3
   },
   "file_extension": ".py",
   "mimetype": "text/x-python",
   "name": "python",
   "nbconvert_exporter": "python",
   "pygments_lexer": "ipython3",
   "version": "3.12.0"
  }
 },
 "nbformat": 4,
 "nbformat_minor": 5
}
